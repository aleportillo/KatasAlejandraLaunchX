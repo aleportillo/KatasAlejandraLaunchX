{
 "cells": [
  {
   "cell_type": "markdown",
   "metadata": {},
   "source": [
    "### Ejercicio 1: Trabajar con argumentos en funciones\n",
    "Los argumentos requeridos en las funciones se utilizan cuando las funciones necesitan que esos argumentos funcionen correctamente. En este ejercicio, construirás un informe de combustible que requiere información de varias ubicaciones de combustible en todo el cohete.\n",
    "\n",
    "Comienza por crear una función que necesite tres lecturas de combustible y devuelva un informe:"
   ]
  },
  {
   "cell_type": "code",
   "execution_count": 29,
   "metadata": {},
   "outputs": [],
   "source": [
    "def report (first_tank, second_tank, third_tank):\n",
    "    avarage = (first_tank + second_tank + third_tank) / 3;\n",
    "    report = f\"\"\"\n",
    "        **** Results ***\n",
    "        Avarage: {avarage}\n",
    "        First tank: {first_tank}\n",
    "        Second tank: {second_tank}\n",
    "        Third tank: {third_tank}\n",
    "    \"\"\";\n",
    "    return report;"
   ]
  },
  {
   "cell_type": "markdown",
   "metadata": {},
   "source": [
    "Ahora que hemos definido la función de informes, vamos a comprobarlo. Para esta misión, los tanques no están llenos:"
   ]
  },
  {
   "cell_type": "code",
   "execution_count": 30,
   "metadata": {},
   "outputs": [
    {
     "name": "stdout",
     "output_type": "stream",
     "text": [
      "\n",
      "        **** Results ***\n",
      "        Avarage: 23.666666666666668\n",
      "        First tank: 0\n",
      "        Second tank: 23\n",
      "        Third tank: 48\n",
      "    \n"
     ]
    }
   ],
   "source": [
    "print(report(0, 23, 48));"
   ]
  },
  {
   "cell_type": "markdown",
   "metadata": {},
   "source": [
    "En lugar de simplemente crear el informe, la función también está calculando el promedio. Mejora la legibilidad extrayendo el cálculo promedio de la función en una nueva función para que el promedio se pueda hacer de forma independiente:"
   ]
  },
  {
   "cell_type": "code",
   "execution_count": 31,
   "metadata": {},
   "outputs": [],
   "source": [
    "def avarage (first_tank, second_tank, third_tank):\n",
    "    return (first_tank + second_tank + third_tank) / 3;"
   ]
  },
  {
   "cell_type": "markdown",
   "metadata": {},
   "source": [
    "Ahora actualiza la función de informes para llamando a la nueva función del promedio:"
   ]
  },
  {
   "cell_type": "code",
   "execution_count": 32,
   "metadata": {},
   "outputs": [
    {
     "name": "stdout",
     "output_type": "stream",
     "text": [
      "\n",
      "        **** Results ***\n",
      "        Avarage: 23.666666666666668\n",
      "        First tank: 0\n",
      "        Second tank: 23\n",
      "        Third tank: 48\n",
      "    \n"
     ]
    }
   ],
   "source": [
    "def report (first_tank, second_tank, third_tank):\n",
    "    report = f\"\"\"\n",
    "        **** Results ***\n",
    "        Avarage: {avarage(first_tank, second_tank, third_tank)}\n",
    "        First tank: {first_tank}\n",
    "        Second tank: {second_tank}\n",
    "        Third tank: {third_tank}\n",
    "    \"\"\";\n",
    "    return report;\n",
    "\n",
    "print(report(0, 23, 48));"
   ]
  },
  {
   "cell_type": "markdown",
   "metadata": {},
   "source": [
    "### Ejercicio 2: Trabajo con argumentos de palabra clave\n",
    "\n",
    "En este ejercicio, construirás un informe de cohete que requiere varias piezas de información, como el tiempo hasta el destino, el combustible a la izquierda y el nombre del destino. Comienza por crear una función que creará un informe preciso de la misión. Considera hora de prelanzamiento, tiempo de vuelo, destino, tanque externo y tanque interno:\n"
   ]
  },
  {
   "cell_type": "code",
   "execution_count": 33,
   "metadata": {},
   "outputs": [
    {
     "name": "stdout",
     "output_type": "stream",
     "text": [
      "\n",
      "**** Results ***\n",
      "    Pre launch_time: 14\n",
      "    Flight time: 51\n",
      "    Destination: Moon\n",
      "    External tank: 200000\n",
      "    Internal tank: 300000\n",
      "\n"
     ]
    }
   ],
   "source": [
    "def mission_report (prelaunch_time, flight_time, destination, external_tank, internal_tank):\n",
    "    report = f\"\"\"\n",
    "**** Results ***\n",
    "    Pre launch_time: {prelaunch_time}\n",
    "    Flight time: {flight_time}\n",
    "    Destination: {destination}\n",
    "    External tank: {external_tank}\n",
    "    Internal tank: {internal_tank}\n",
    "\"\"\";\n",
    "    return report;\n",
    "print(mission_report(14, 51, \"Moon\", 200000, 300000));"
   ]
  },
  {
   "cell_type": "markdown",
   "metadata": {},
   "source": [
    "La función es problemática porque no se puede adaptar para minutos adicionales o tanques adicionales de combustible. Hazlo más flexible permitiendo cualquier número de pasos basados en el tiempo y cualquier número de tanques. En lugar de usar *args y **kwargs, aprovecha el hecho de que puedes usar cualquier nombre que desees. Asegurate que la función sea más legible mediante el uso de nombres de variables que están asociados con las entradas, como *minutes y **fuel_reservoirs:"
   ]
  },
  {
   "cell_type": "code",
   "execution_count": 34,
   "metadata": {},
   "outputs": [
    {
     "name": "stdout",
     "output_type": "stream",
     "text": [
      "\n",
      "**** Results ***\n",
      "    Destination: Moon\n",
      "    Minutes: 65\n",
      "    Total tank: 15\n",
      "\n"
     ]
    }
   ],
   "source": [
    "def mission_report (destination, *minutes, **fuel_reservoirs):\n",
    "    report = f\"\"\"\n",
    "**** Results ***\n",
    "    Destination: {destination}\n",
    "    Minutes: {sum(minutes)}\n",
    "    Total tank: {sum(fuel_reservoirs.values())}\n",
    "\"\"\";\n",
    "    return report;\n",
    "print(mission_report(\"Moon\", 14, 51, external=10, internal=5));"
   ]
  },
  {
   "cell_type": "markdown",
   "metadata": {},
   "source": [
    "Debido a que el combustible que queda en los tanques es específico de cada tanque, actualiza la función para usar el nombre de cada tanque en el informe:"
   ]
  },
  {
   "cell_type": "code",
   "execution_count": 35,
   "metadata": {},
   "outputs": [
    {
     "name": "stdout",
     "output_type": "stream",
     "text": [
      "\n",
      "**** Results ***\n",
      "    Destination: Moon\n",
      "    Minutes: 65\n",
      "    Total tank: 15\n",
      "     - external: 10\n",
      "     - internal: 5\n",
      "    \n"
     ]
    }
   ],
   "source": [
    "def mission_report (destination, *minutes, **fuel_reservoirs):\n",
    "    report = f\"\"\"\n",
    "**** Results ***\n",
    "    Destination: {destination}\n",
    "    Minutes: {sum(minutes)}\n",
    "    Total tank: {sum(fuel_reservoirs.values())}\n",
    "    \"\"\";\n",
    "    for tank, quantity in fuel_reservoirs.items():\n",
    "       report += f' - {tank}: {quantity}\\n    ';\n",
    "    return report;\n",
    "print(mission_report(\"Moon\", 14, 51, external=10, internal=5));"
   ]
  }
 ],
 "metadata": {
  "interpreter": {
   "hash": "2be5faf79681da6f2a61fdfdd5405d65d042280f7fba6178067603e3a2925119"
  },
  "kernelspec": {
   "display_name": "Python 3.10.2 64-bit",
   "language": "python",
   "name": "python3"
  },
  "language_info": {
   "codemirror_mode": {
    "name": "ipython",
    "version": 3
   },
   "file_extension": ".py",
   "mimetype": "text/x-python",
   "name": "python",
   "nbconvert_exporter": "python",
   "pygments_lexer": "ipython3",
   "version": "3.10.2"
  },
  "orig_nbformat": 4
 },
 "nbformat": 4,
 "nbformat_minor": 2
}
