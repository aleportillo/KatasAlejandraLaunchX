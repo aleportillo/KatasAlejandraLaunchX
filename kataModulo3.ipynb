{
 "cells": [
  {
   "cell_type": "markdown",
   "metadata": {},
   "source": [
    "### Ejercicio: Escribir declaraciones if, else, y elif\n",
    "\n",
    "Para este ejercicio, escribirás una lógica condicional que imprima una advertencia si un asteroide se acerca a la Tierra demasiado rápido. La velocidad del asteroide varía dependiendo de lo cerca que esté del sol, y cualquier velocidad superior a 25 kilómetros por segundo (km/s) merece una advertencia. Un asteroide se acerca, y viaja a una velocidad de 49 km/s."
   ]
  },
  {
   "cell_type": "code",
   "execution_count": 8,
   "metadata": {},
   "outputs": [
    {
     "name": "stdout",
     "output_type": "stream",
     "text": [
      "PELIGRO, SE ACERCA UN ASTEROIDE!\n"
     ]
    }
   ],
   "source": [
    "# Añadir el código necesario para crear una variable que guarde la velocidad del asteroide.\n",
    "# Escribe una expresión de prueba para calcular si necesita una advertencia.\n",
    "# Agregue las instrucciones que se ejecutarán si la expresión de prueba es true o false.\n",
    "\n",
    "velocidadAsteroide = 49;\n",
    "\n",
    "if velocidadAsteroide > 25:\n",
    "    print('PELIGRO, SE ACERCA UN ASTEROIDE!');\n",
    "else:\n",
    "    print('Hoy es un buen día.');"
   ]
  },
  {
   "cell_type": "markdown",
   "metadata": {},
   "source": [
    "Si un asteroide entra en la atmósfera de la Tierra a una velocidad mayor o igual a 20 km/s, a veces produce un rayo de luz que se puede ver desde la Tierra. Escribe la lógica condicional que usa declaraciones if, else, y elif para alertar a las personas de todo el mundo que deben buscar un asteroide en el cielo. ¡Hay uno que se dirige a la tierra ahora a una velocidad de 19 km/s!"
   ]
  },
  {
   "cell_type": "code",
   "execution_count": 11,
   "metadata": {},
   "outputs": [
    {
     "name": "stdout",
     "output_type": "stream",
     "text": [
      "No se puede ver el rayo de luz\n"
     ]
    }
   ],
   "source": [
    "# Agrega el código para crear una variable para un asteroide que viaja a 19 km/s\n",
    "# Escribe varias expresiones de prueba para determinar si puedes ver el rayo de luz desde la tierra\n",
    "# Agrega las instrucciones que se ejecutarán si las expresiones de prueba son True o False\n",
    "\n",
    "velocidadAsteroide = 19;\n",
    "\n",
    "if velocidadAsteroide >= 20:\n",
    "    print('Se puede ver el rayo de luz');\n",
    "else:\n",
    "    print('No se puede ver el rayo de luz');\n",
    "\n",
    "# ALTERNATIVA\n",
    "if velocidadAsteroide > 20:\n",
    "    print('Se puede ver el rayo de luz');\n",
    "elif velocidadAsteroide == 20:\n",
    "    print('Se puede ver el rayo de luz');\n",
    "else:\n",
    "    print('No se puede ver el rayo de luz');"
   ]
  },
  {
   "cell_type": "markdown",
   "metadata": {},
   "source": [
    "### Ejercicio: Uso de operadores and y or\n",
    "\n",
    "En este ejercicio, aprenderás información más matizada sobre cuándo los asteroides representan un peligro para la Tierra, y utilizarás esa información para mejorar nuestro sistema de advertencia. Aquí está la nueva información que necesitas saber:\n",
    "\n",
    "    - Los asteroides de menos de 25 metros en su dimensión más grande probablemente se quemarán a medida que entren en la atmósfera de la Tierra.\n",
    "    - Si una pieza de un asteroide que es más grande que 25 metros pero más pequeña que 1000 metros golpeara la Tierra, causaría mucho daño.\n",
    "\n",
    "También discutimos en el ejercicio anterior que:\n",
    "\n",
    "    - La velocidad del asteroide varía en función de lo cerca que esté del sol, y cualquier velocidad superior a 25 kilómetros por segundo (km/s) merece una advertencia.\n",
    "    - Si un asteroide entra en la atmósfera de la Tierra a una velocidad mayor o igual a 20 km/s, a veces produce un rayo de luz que se puede ver desde la Tierra.\n",
    "\n",
    "Usando toda esta información, escribe un programa que emita la advertencia o información correcta a la gente de la Tierra, según la velocidad y el tamaño de un asteroide. Utiliza instrucciones if, else, y elif, así como los operadores and y or."
   ]
  },
  {
   "cell_type": "code",
   "execution_count": 15,
   "metadata": {},
   "outputs": [
    {
     "name": "stdout",
     "output_type": "stream",
     "text": [
      "Se puede ver el rayo de luz.\n",
      "Se puede ver el rayo de luz\n"
     ]
    }
   ],
   "source": [
    "# Agrega el código para crear nuevas variables para la velocidad y el tamaño del asteroide\n",
    "# Para probar el código, prueba con varias velocidades y tamaños\n",
    "# Escribe varias expresiones de prueba o combinaciones de expresiones de prueba para determinar qué mensaje se debe enviar a Tierra\n",
    "\n",
    "velocidadAsteroide = 25;\n",
    "tamanoAsteroide = 40;\n",
    "\n",
    "if tamanoAsteroide > 25 and tamanoAsteroide < 1000:\n",
    "    if velocidadAsteroide > 25:\n",
    "        print('PELIGRO, SE ACERCA UN ASTEROIDE Y SE PUEDE VER UN RAYO DE LUZ!');\n",
    "    elif velocidadAsteroide >= 20:\n",
    "        print('Se puede ver el rayo de luz.');\n",
    "else: \n",
    "    print('Hoy es un buen día.');\n",
    "\n",
    "# ALTERNATIVA\n",
    "if velocidadAsteroide > 25 and tamanoAsteroide > 25:\n",
    "    print('PELIGRO, SE ACERCA UN ASTEROIDE!');\n",
    "elif velocidadAsteroide >= 20:\n",
    "    print('Se puede ver el rayo de luz');\n",
    "elif tamanoAsteroide < 25:\n",
    "    print('Hoy es un buen día.');\n",
    "else:\n",
    "    print('Hoy es un buen día.');"
   ]
  }
 ],
 "metadata": {
  "interpreter": {
   "hash": "2be5faf79681da6f2a61fdfdd5405d65d042280f7fba6178067603e3a2925119"
  },
  "kernelspec": {
   "display_name": "Python 3.10.2 64-bit",
   "language": "python",
   "name": "python3"
  },
  "language_info": {
   "codemirror_mode": {
    "name": "ipython",
    "version": 3
   },
   "file_extension": ".py",
   "mimetype": "text/x-python",
   "name": "python",
   "nbconvert_exporter": "python",
   "pygments_lexer": "ipython3",
   "version": "3.10.2"
  },
  "orig_nbformat": 4
 },
 "nbformat": 4,
 "nbformat_minor": 2
}
