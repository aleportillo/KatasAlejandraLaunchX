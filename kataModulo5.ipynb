{
 "cells": [
  {
   "cell_type": "markdown",
   "metadata": {},
   "source": [
    "### Ejercicio 1 - Utilizar operadores aritméticos\n",
    "\n",
    "Exploremos cómo podemos crear un programa que pueda calcular la distancia entre dos planetas. \n",
    "Comenzaremos usando dos distancias de planetas: Tierra (149.597.870 km) y Júpiter (778.547.200 km)."
   ]
  },
  {
   "cell_type": "code",
   "execution_count": 8,
   "metadata": {},
   "outputs": [],
   "source": [
    "# Crear variables para almacenar las dos distancias\n",
    "# ¡Asegúrate de quitar las comas!\n",
    "tierra = 149597870;\n",
    "jupiter = 778547200;"
   ]
  },
  {
   "cell_type": "code",
   "execution_count": 9,
   "metadata": {},
   "outputs": [
    {
     "name": "stdout",
     "output_type": "stream",
     "text": [
      "628949330\n",
      "390577533.93\n"
     ]
    }
   ],
   "source": [
    "# Con los valores obtenidos, es el momento de añadir el código para realizar la operación. \n",
    "# Restarás el primer planeta del segundo para determinar la distancia en kilómetros. \n",
    "# A continuación, puedes convertir la distancia del kilómetro en millas multiplicándola por 0.621.\n",
    "\n",
    "distancia = (jupiter-tierra);\n",
    "print(distancia);\n",
    "distancia = distancia * 0.621;\n",
    "print(distancia);"
   ]
  },
  {
   "cell_type": "markdown",
   "metadata": {},
   "source": [
    "### Ejercicio 2: convierte cadenas en números y usa valores absolutos\n",
    "\n",
    "Para crear nuestra aplicación, queremos leer la distancia del sol para dos planetas, y luego mostrar la distancia entre los planetas. Haremos esto usando input para leer los valores, int para convertir a entero y luego abs para convertir el resultado en su valor absoluto."
   ]
  },
  {
   "cell_type": "code",
   "execution_count": 10,
   "metadata": {},
   "outputs": [
    {
     "name": "stdout",
     "output_type": "stream",
     "text": [
      "600\n",
      "300\n"
     ]
    }
   ],
   "source": [
    "# Usando input, agrega el código para leer la distancia del sol para cada planeta, considerando 2 planetas.\n",
    "\n",
    "# Almacenar las entradas del usuario\n",
    "#Pista: variable = input(\"¿Cuál es tu nombre?\")\n",
    "planeta_uno = input('Cual es la distancia del primer planeta?');\n",
    "print(planeta_uno);\n",
    "\n",
    "planeta_dos = input('Cual es la distancia del primer planeta?');\n",
    "print(planeta_dos);"
   ]
  },
  {
   "cell_type": "code",
   "execution_count": 11,
   "metadata": {},
   "outputs": [],
   "source": [
    "# Debido a que input devuelve valores de cadena, necesitamos convertirlos en números. Para nuestro ejemplo, usaremos int\n",
    "\n",
    "planeta_uno = int(planeta_uno);\n",
    "planeta_dos = int(planeta_dos);"
   ]
  },
  {
   "cell_type": "code",
   "execution_count": 12,
   "metadata": {},
   "outputs": [
    {
     "name": "stdout",
     "output_type": "stream",
     "text": [
      "300\n",
      "186.3\n"
     ]
    }
   ],
   "source": [
    "# Con los valores almacenados como números, ahora puedes agregar el código para realizar el cálculo, restando el primer planeta del segundo. \n",
    "# Debido a que el segundo planeta podría ser un número mayor, usarás abs para convertirlo a un valor absoluto. \n",
    "# También agregarás el código para mostrar el resultado en millas multiplicando la distancia del kilómetro por 0.621\n",
    "\n",
    "distancia = abs(planeta_dos-planeta_uno);\n",
    "print(distancia);\n",
    "distancia = distancia * 0.621;\n",
    "print(distancia);"
   ]
  }
 ],
 "metadata": {
  "interpreter": {
   "hash": "2be5faf79681da6f2a61fdfdd5405d65d042280f7fba6178067603e3a2925119"
  },
  "kernelspec": {
   "display_name": "Python 3.10.2 64-bit",
   "language": "python",
   "name": "python3"
  },
  "language_info": {
   "codemirror_mode": {
    "name": "ipython",
    "version": 3
   },
   "file_extension": ".py",
   "mimetype": "text/x-python",
   "name": "python",
   "nbconvert_exporter": "python",
   "pygments_lexer": "ipython3",
   "version": "3.10.2"
  },
  "orig_nbformat": 4
 },
 "nbformat": 4,
 "nbformat_minor": 2
}
